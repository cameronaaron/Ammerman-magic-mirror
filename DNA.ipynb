{
 "cells": [
  {
   "cell_type": "markdown",
   "metadata": {},
   "source": [
    "#!/usr/bin/env python3"
   ]
  },
  {
   "cell_type": "code",
   "execution_count": 1,
   "metadata": {},
   "outputs": [],
   "source": [
    "%matplotlib inline\n",
    "import seaborn as sns\n",
    "sns.set_style('darkgrid')\n",
    "sns.color_palette('Spectral')\n",
    "import matplotlib.pyplot as plt\n",
    "import numpy as np\n",
    "import requests\n",
    "import pandas as pd\n",
    "import re\n",
    "import matplotlib.pyplot as plt\n",
    "import cv2\n",
    "from wordcloud import WordCloud, STOPWORDS\n",
    "from PIL import Image\n",
    "from lineage import Lineage"
   ]
  },
  {
   "cell_type": "code",
   "execution_count": 2,
   "metadata": {},
   "outputs": [],
   "source": [
    "data = pd.read_csv('genomee.txt', sep='\\t', dtype={'rsid':'str', 'chromosome':'object', 'position':'int', 'genotype':'str'}, comment='#')"
   ]
  },
  {
   "cell_type": "code",
   "execution_count": 3,
   "metadata": {},
   "outputs": [
    {
     "name": "stdout",
     "output_type": "stream",
     "text": [
      "               rsid chromosome  position genotype\n",
      "0       rs548049170          1     69869       TT\n",
      "1        rs13328684          1     74792       --\n",
      "2         rs9283150          1    565508       AA\n",
      "3           i713426          1    726912       AA\n",
      "4       rs116587930          1    727841       GG\n",
      "...             ...        ...       ...      ...\n",
      "638542     i4000693         MT     16524        A\n",
      "638543      i704756         MT     16524        A\n",
      "638544      i705255         MT     16525        A\n",
      "638545     i4000757         MT     16526        G\n",
      "638546      i701671         MT     16526        G\n",
      "\n",
      "[638547 rows x 4 columns]\n"
     ]
    }
   ],
   "source": [
    "print(data)"
   ]
  },
  {
   "cell_type": "code",
   "execution_count": 4,
   "metadata": {},
   "outputs": [],
   "source": [
    "df = pd.DataFrame(data)"
   ]
  },
  {
   "cell_type": "code",
   "execution_count": 5,
   "metadata": {
    "scrolled": true
   },
   "outputs": [
    {
     "data": {
      "text/html": [
       "<div>\n",
       "<style scoped>\n",
       "    .dataframe tbody tr th:only-of-type {\n",
       "        vertical-align: middle;\n",
       "    }\n",
       "\n",
       "    .dataframe tbody tr th {\n",
       "        vertical-align: top;\n",
       "    }\n",
       "\n",
       "    .dataframe thead th {\n",
       "        text-align: right;\n",
       "    }\n",
       "</style>\n",
       "<table border=\"1\" class=\"dataframe\">\n",
       "  <thead>\n",
       "    <tr style=\"text-align: right;\">\n",
       "      <th></th>\n",
       "      <th>rsid</th>\n",
       "      <th>chromosome</th>\n",
       "      <th>position</th>\n",
       "      <th>genotype</th>\n",
       "    </tr>\n",
       "  </thead>\n",
       "  <tbody>\n",
       "    <tr>\n",
       "      <th>0</th>\n",
       "      <td>rs548049170</td>\n",
       "      <td>1</td>\n",
       "      <td>69869</td>\n",
       "      <td>TT</td>\n",
       "    </tr>\n",
       "    <tr>\n",
       "      <th>1</th>\n",
       "      <td>rs13328684</td>\n",
       "      <td>1</td>\n",
       "      <td>74792</td>\n",
       "      <td>--</td>\n",
       "    </tr>\n",
       "    <tr>\n",
       "      <th>2</th>\n",
       "      <td>rs9283150</td>\n",
       "      <td>1</td>\n",
       "      <td>565508</td>\n",
       "      <td>AA</td>\n",
       "    </tr>\n",
       "    <tr>\n",
       "      <th>3</th>\n",
       "      <td>i713426</td>\n",
       "      <td>1</td>\n",
       "      <td>726912</td>\n",
       "      <td>AA</td>\n",
       "    </tr>\n",
       "    <tr>\n",
       "      <th>4</th>\n",
       "      <td>rs116587930</td>\n",
       "      <td>1</td>\n",
       "      <td>727841</td>\n",
       "      <td>GG</td>\n",
       "    </tr>\n",
       "    <tr>\n",
       "      <th>5</th>\n",
       "      <td>rs3131972</td>\n",
       "      <td>1</td>\n",
       "      <td>752721</td>\n",
       "      <td>AG</td>\n",
       "    </tr>\n",
       "    <tr>\n",
       "      <th>6</th>\n",
       "      <td>rs12184325</td>\n",
       "      <td>1</td>\n",
       "      <td>754105</td>\n",
       "      <td>CC</td>\n",
       "    </tr>\n",
       "    <tr>\n",
       "      <th>7</th>\n",
       "      <td>rs12567639</td>\n",
       "      <td>1</td>\n",
       "      <td>756268</td>\n",
       "      <td>AA</td>\n",
       "    </tr>\n",
       "    <tr>\n",
       "      <th>8</th>\n",
       "      <td>rs114525117</td>\n",
       "      <td>1</td>\n",
       "      <td>759036</td>\n",
       "      <td>GG</td>\n",
       "    </tr>\n",
       "    <tr>\n",
       "      <th>9</th>\n",
       "      <td>rs12124819</td>\n",
       "      <td>1</td>\n",
       "      <td>776546</td>\n",
       "      <td>--</td>\n",
       "    </tr>\n",
       "    <tr>\n",
       "      <th>10</th>\n",
       "      <td>rs12127425</td>\n",
       "      <td>1</td>\n",
       "      <td>794332</td>\n",
       "      <td>GG</td>\n",
       "    </tr>\n",
       "    <tr>\n",
       "      <th>11</th>\n",
       "      <td>rs79373928</td>\n",
       "      <td>1</td>\n",
       "      <td>801536</td>\n",
       "      <td>TT</td>\n",
       "    </tr>\n",
       "    <tr>\n",
       "      <th>12</th>\n",
       "      <td>rs72888853</td>\n",
       "      <td>1</td>\n",
       "      <td>815421</td>\n",
       "      <td>--</td>\n",
       "    </tr>\n",
       "    <tr>\n",
       "      <th>13</th>\n",
       "      <td>rs7538305</td>\n",
       "      <td>1</td>\n",
       "      <td>824398</td>\n",
       "      <td>AA</td>\n",
       "    </tr>\n",
       "    <tr>\n",
       "      <th>14</th>\n",
       "      <td>rs28444699</td>\n",
       "      <td>1</td>\n",
       "      <td>830181</td>\n",
       "      <td>AA</td>\n",
       "    </tr>\n",
       "    <tr>\n",
       "      <th>15</th>\n",
       "      <td>i713449</td>\n",
       "      <td>1</td>\n",
       "      <td>830731</td>\n",
       "      <td>--</td>\n",
       "    </tr>\n",
       "    <tr>\n",
       "      <th>16</th>\n",
       "      <td>rs116452738</td>\n",
       "      <td>1</td>\n",
       "      <td>834830</td>\n",
       "      <td>GG</td>\n",
       "    </tr>\n",
       "    <tr>\n",
       "      <th>17</th>\n",
       "      <td>rs72631887</td>\n",
       "      <td>1</td>\n",
       "      <td>835092</td>\n",
       "      <td>TT</td>\n",
       "    </tr>\n",
       "    <tr>\n",
       "      <th>18</th>\n",
       "      <td>rs28678693</td>\n",
       "      <td>1</td>\n",
       "      <td>838665</td>\n",
       "      <td>TT</td>\n",
       "    </tr>\n",
       "    <tr>\n",
       "      <th>19</th>\n",
       "      <td>rs4970382</td>\n",
       "      <td>1</td>\n",
       "      <td>840753</td>\n",
       "      <td>TT</td>\n",
       "    </tr>\n",
       "    <tr>\n",
       "      <th>20</th>\n",
       "      <td>rs4475691</td>\n",
       "      <td>1</td>\n",
       "      <td>846808</td>\n",
       "      <td>CT</td>\n",
       "    </tr>\n",
       "    <tr>\n",
       "      <th>21</th>\n",
       "      <td>rs72631889</td>\n",
       "      <td>1</td>\n",
       "      <td>851390</td>\n",
       "      <td>GG</td>\n",
       "    </tr>\n",
       "    <tr>\n",
       "      <th>22</th>\n",
       "      <td>rs7537756</td>\n",
       "      <td>1</td>\n",
       "      <td>854250</td>\n",
       "      <td>GG</td>\n",
       "    </tr>\n",
       "    <tr>\n",
       "      <th>23</th>\n",
       "      <td>rs13302982</td>\n",
       "      <td>1</td>\n",
       "      <td>861808</td>\n",
       "      <td>AA</td>\n",
       "    </tr>\n",
       "    <tr>\n",
       "      <th>24</th>\n",
       "      <td>rs376747791</td>\n",
       "      <td>1</td>\n",
       "      <td>863130</td>\n",
       "      <td>AA</td>\n",
       "    </tr>\n",
       "  </tbody>\n",
       "</table>\n",
       "</div>"
      ],
      "text/plain": [
       "           rsid chromosome  position genotype\n",
       "0   rs548049170          1     69869       TT\n",
       "1    rs13328684          1     74792       --\n",
       "2     rs9283150          1    565508       AA\n",
       "3       i713426          1    726912       AA\n",
       "4   rs116587930          1    727841       GG\n",
       "5     rs3131972          1    752721       AG\n",
       "6    rs12184325          1    754105       CC\n",
       "7    rs12567639          1    756268       AA\n",
       "8   rs114525117          1    759036       GG\n",
       "9    rs12124819          1    776546       --\n",
       "10   rs12127425          1    794332       GG\n",
       "11   rs79373928          1    801536       TT\n",
       "12   rs72888853          1    815421       --\n",
       "13    rs7538305          1    824398       AA\n",
       "14   rs28444699          1    830181       AA\n",
       "15      i713449          1    830731       --\n",
       "16  rs116452738          1    834830       GG\n",
       "17   rs72631887          1    835092       TT\n",
       "18   rs28678693          1    838665       TT\n",
       "19    rs4970382          1    840753       TT\n",
       "20    rs4475691          1    846808       CT\n",
       "21   rs72631889          1    851390       GG\n",
       "22    rs7537756          1    854250       GG\n",
       "23   rs13302982          1    861808       AA\n",
       "24  rs376747791          1    863130       AA"
      ]
     },
     "execution_count": 5,
     "metadata": {},
     "output_type": "execute_result"
    }
   ],
   "source": [
    "df.head(25)"
   ]
  },
  {
   "cell_type": "code",
   "execution_count": 6,
   "metadata": {
    "scrolled": true
   },
   "outputs": [
    {
     "data": {
      "text/plain": [
       " rsid         638547\n",
       "chromosome        25\n",
       "position      634977\n",
       "genotype          20\n",
       "dtype: int64"
      ]
     },
     "execution_count": 6,
     "metadata": {},
     "output_type": "execute_result"
    }
   ],
   "source": [
    "df.nunique()"
   ]
  },
  {
   "cell_type": "code",
   "execution_count": 7,
   "metadata": {},
   "outputs": [
    {
     "data": {
      "text/html": [
       "<div>\n",
       "<style scoped>\n",
       "    .dataframe tbody tr th:only-of-type {\n",
       "        vertical-align: middle;\n",
       "    }\n",
       "\n",
       "    .dataframe tbody tr th {\n",
       "        vertical-align: top;\n",
       "    }\n",
       "\n",
       "    .dataframe thead th {\n",
       "        text-align: right;\n",
       "    }\n",
       "</style>\n",
       "<table border=\"1\" class=\"dataframe\">\n",
       "  <thead>\n",
       "    <tr style=\"text-align: right;\">\n",
       "      <th></th>\n",
       "      <th>rsid</th>\n",
       "      <th>chromosome</th>\n",
       "      <th>position</th>\n",
       "      <th>genotype</th>\n",
       "    </tr>\n",
       "  </thead>\n",
       "  <tbody>\n",
       "    <tr>\n",
       "      <th>449</th>\n",
       "      <td>i6059967</td>\n",
       "      <td>1</td>\n",
       "      <td>2526746</td>\n",
       "      <td>GG</td>\n",
       "    </tr>\n",
       "    <tr>\n",
       "      <th>2816</th>\n",
       "      <td>i6052145</td>\n",
       "      <td>1</td>\n",
       "      <td>11009679</td>\n",
       "      <td>GG</td>\n",
       "    </tr>\n",
       "    <tr>\n",
       "      <th>5325</th>\n",
       "      <td>i6012699</td>\n",
       "      <td>1</td>\n",
       "      <td>19992513</td>\n",
       "      <td>CC</td>\n",
       "    </tr>\n",
       "    <tr>\n",
       "      <th>5339</th>\n",
       "      <td>i6059797</td>\n",
       "      <td>1</td>\n",
       "      <td>20020994</td>\n",
       "      <td>CT</td>\n",
       "    </tr>\n",
       "    <tr>\n",
       "      <th>5791</th>\n",
       "      <td>i6058167</td>\n",
       "      <td>1</td>\n",
       "      <td>21795388</td>\n",
       "      <td>AA</td>\n",
       "    </tr>\n",
       "  </tbody>\n",
       "</table>\n",
       "</div>"
      ],
      "text/plain": [
       "          rsid chromosome  position genotype\n",
       "449   i6059967          1   2526746       GG\n",
       "2816  i6052145          1  11009679       GG\n",
       "5325  i6012699          1  19992513       CC\n",
       "5339  i6059797          1  20020994       CT\n",
       "5791  i6058167          1  21795388       AA"
      ]
     },
     "metadata": {},
     "output_type": "display_data"
    },
    {
     "name": "stdout",
     "output_type": "stream",
     "text": [
      "<class 'pandas.core.frame.DataFrame'>\n",
      "Int64Index: 3570 entries, 449 to 638546\n",
      "Data columns (total 4 columns):\n",
      " #   Column      Non-Null Count  Dtype \n",
      "---  ------      --------------  ----- \n",
      " 0    rsid       3570 non-null   object\n",
      " 1   chromosome  3570 non-null   object\n",
      " 2   position    3570 non-null   int64 \n",
      " 3   genotype    3570 non-null   object\n",
      "dtypes: int64(1), object(3)\n",
      "memory usage: 139.5+ KB\n"
     ]
    },
    {
     "data": {
      "text/plain": [
       "None"
      ]
     },
     "metadata": {},
     "output_type": "display_data"
    }
   ],
   "source": [
    "duplicates = df[df.duplicated(subset='position')]\n",
    "display(duplicates.head())\n",
    "display(duplicates.info())"
   ]
  },
  {
   "cell_type": "code",
   "execution_count": 8,
   "metadata": {},
   "outputs": [
    {
     "name": "stdout",
     "output_type": "stream",
     "text": [
      "<class 'pandas.core.frame.DataFrame'>\n",
      "Int64Index: 634814 entries, 0 to 638546\n",
      "Data columns (total 4 columns):\n",
      " #   Column      Non-Null Count   Dtype \n",
      "---  ------      --------------   ----- \n",
      " 0    rsid       634814 non-null  object\n",
      " 1   chromosome  634814 non-null  object\n",
      " 2   position    634814 non-null  int64 \n",
      " 3   genotype    634814 non-null  object\n",
      "dtypes: int64(1), object(3)\n",
      "memory usage: 24.2+ MB\n"
     ]
    }
   ],
   "source": [
    "df = df[df.chromosome != 'Y']\n",
    "df.info()"
   ]
  },
  {
   "cell_type": "code",
   "execution_count": 9,
   "metadata": {
    "scrolled": true
   },
   "outputs": [
    {
     "data": {
      "text/plain": [
       "array(['1', '2', '3', '4', '5', '6', '7', '8', '9', '10', '11', '12',\n",
       "       '13', '14', '15', '16', '17', '18', '19', '20', '21', '22', 'X',\n",
       "       'MT'], dtype=object)"
      ]
     },
     "execution_count": 9,
     "metadata": {},
     "output_type": "execute_result"
    }
   ],
   "source": [
    "df['chromosome'].unique()"
   ]
  },
  {
   "cell_type": "code",
   "execution_count": 10,
   "metadata": {},
   "outputs": [],
   "source": [
    "df['chromosome'] = df['chromosome'].apply(lambda x: re.sub(r'X', r'23', x))\n",
    "df['chromosome'] = df['chromosome'].apply(lambda x: re.sub(r'MT', r'24', x))"
   ]
  },
  {
   "cell_type": "code",
   "execution_count": 11,
   "metadata": {},
   "outputs": [],
   "source": [
    "df['chromosome'] = df['chromosome'].apply(lambda x: int(x))"
   ]
  },
  {
   "cell_type": "code",
   "execution_count": 12,
   "metadata": {},
   "outputs": [],
   "source": [
    "chromosome_dict = {1:'1', 2:'2', 3:'3', 4:'4', 5:'5', 6:'6', 7:'7', 8:'8', 9:'9', 10:'10', 11:'11', 12:'12', 13:'13', \n",
    "                  14:'14', 15:'15', 16:'16', 17:'17', 18:'18', 19:'19', 20:'20', 21:'21', 22:'22', 23:'X', 24:'MT'}"
   ]
  },
  {
   "cell_type": "code",
   "execution_count": 13,
   "metadata": {},
   "outputs": [
    {
     "name": "stdout",
     "output_type": "stream",
     "text": [
      "{1: '1', 2: '2', 3: '3', 4: '4', 5: '5', 6: '6', 7: '7', 8: '8', 9: '9', 10: '10', 11: '11', 12: '12', 13: '13', 14: '14', 15: '15', 16: '16', 17: '17', 18: '18', 19: '19', 20: '20', 21: '21', 22: '22', 23: 'X', 24: 'MT'}\n",
      "<class 'pandas.core.frame.DataFrame'>\n",
      "Int64Index: 634814 entries, 0 to 638546\n",
      "Data columns (total 4 columns):\n",
      " #   Column      Non-Null Count   Dtype \n",
      "---  ------      --------------   ----- \n",
      " 0    rsid       634814 non-null  object\n",
      " 1   chromosome  634814 non-null  int64 \n",
      " 2   position    634814 non-null  int64 \n",
      " 3   genotype    634814 non-null  object\n",
      "dtypes: int64(2), object(2)\n",
      "memory usage: 24.2+ MB\n"
     ]
    }
   ],
   "source": [
    "print(chromosome_dict)\n",
    "df.info()"
   ]
  },
  {
   "cell_type": "code",
   "execution_count": 14,
   "metadata": {},
   "outputs": [
    {
     "data": {
      "text/plain": [
       "16733"
      ]
     },
     "execution_count": 14,
     "metadata": {},
     "output_type": "execute_result"
    }
   ],
   "source": [
    "genotype_na = df[df.genotype == '--']\n",
    "len(genotype_na)"
   ]
  },
  {
   "cell_type": "code",
   "execution_count": 15,
   "metadata": {
    "scrolled": true
   },
   "outputs": [
    {
     "name": "stdout",
     "output_type": "stream",
     "text": [
      "<class 'pandas.core.frame.DataFrame'>\n",
      "Int64Index: 49516 entries, 0 to 49515\n",
      "Data columns (total 4 columns):\n",
      " #   Column      Non-Null Count  Dtype \n",
      "---  ------      --------------  ----- \n",
      " 0    rsid       49516 non-null  object\n",
      " 1   chromosome  49516 non-null  int64 \n",
      " 2   position    49516 non-null  int64 \n",
      " 3   genotype    49516 non-null  object\n",
      "dtypes: int64(2), object(2)\n",
      "memory usage: 1.9+ MB\n"
     ]
    }
   ],
   "source": [
    "df[df.chromosome == 1].info()"
   ]
  },
  {
   "cell_type": "code",
   "execution_count": 16,
   "metadata": {},
   "outputs": [],
   "source": [
    "df.rename({' rsid': 'rsid'}, axis='columns', inplace=True)"
   ]
  },
  {
   "cell_type": "code",
   "execution_count": 17,
   "metadata": {},
   "outputs": [],
   "source": [
    "rsid_per_chromosome_series = df.groupby('chromosome')['rsid'].count()\n",
    "rsid_per_chromosome_series.columns = ['chromosome', 'count']"
   ]
  },
  {
   "cell_type": "code",
   "execution_count": 18,
   "metadata": {},
   "outputs": [
    {
     "name": "stderr",
     "output_type": "stream",
     "text": [
      "/usr/local/lib/python3.7/site-packages/ipykernel_launcher.py:2: UserWarning: Matplotlib is currently using agg, which is a non-GUI backend, so cannot show the figure.\n",
      "  \n"
     ]
    }
   ],
   "source": [
    "rsid_per_chromosome_series.plot.barh(figsize=(16,9), fontsize=15)\n",
    "plt.show()\n",
    "plt.savefig(\"counts.png\")"
   ]
  },
  {
   "cell_type": "code",
   "execution_count": 19,
   "metadata": {},
   "outputs": [
    {
     "data": {
      "text/html": [
       "<div>\n",
       "<style scoped>\n",
       "    .dataframe tbody tr th:only-of-type {\n",
       "        vertical-align: middle;\n",
       "    }\n",
       "\n",
       "    .dataframe tbody tr th {\n",
       "        vertical-align: top;\n",
       "    }\n",
       "\n",
       "    .dataframe thead th {\n",
       "        text-align: right;\n",
       "    }\n",
       "</style>\n",
       "<table border=\"1\" class=\"dataframe\">\n",
       "  <thead>\n",
       "    <tr style=\"text-align: right;\">\n",
       "      <th></th>\n",
       "      <th>Unnamed: 0</th>\n",
       "      <th>Magnitude</th>\n",
       "      <th>Summary</th>\n",
       "    </tr>\n",
       "  </thead>\n",
       "  <tbody>\n",
       "    <tr>\n",
       "      <th>0</th>\n",
       "      <td>Rs1801253(G;G)</td>\n",
       "      <td>0.0</td>\n",
       "      <td>NaN</td>\n",
       "    </tr>\n",
       "    <tr>\n",
       "      <th>1</th>\n",
       "      <td>Rs17822931(T;T)</td>\n",
       "      <td>2.5</td>\n",
       "      <td>Dry earwax. No body odour. Likely Asian ancest...</td>\n",
       "    </tr>\n",
       "    <tr>\n",
       "      <th>2</th>\n",
       "      <td>Rs16891982(C;C)</td>\n",
       "      <td>1.1</td>\n",
       "      <td>generally non-European, but if European, 7x mo...</td>\n",
       "    </tr>\n",
       "    <tr>\n",
       "      <th>3</th>\n",
       "      <td>Rs351855(C;C)</td>\n",
       "      <td>0.0</td>\n",
       "      <td>normal</td>\n",
       "    </tr>\n",
       "    <tr>\n",
       "      <th>4</th>\n",
       "      <td>Rs713598(C;C)</td>\n",
       "      <td>1.1</td>\n",
       "      <td>Can taste bitter.</td>\n",
       "    </tr>\n",
       "  </tbody>\n",
       "</table>\n",
       "</div>"
      ],
      "text/plain": [
       "        Unnamed: 0  Magnitude  \\\n",
       "0   Rs1801253(G;G)        0.0   \n",
       "1  Rs17822931(T;T)        2.5   \n",
       "2  Rs16891982(C;C)        1.1   \n",
       "3    Rs351855(C;C)        0.0   \n",
       "4    Rs713598(C;C)        1.1   \n",
       "\n",
       "                                             Summary  \n",
       "0                                                NaN  \n",
       "1  Dry earwax. No body odour. Likely Asian ancest...  \n",
       "2  generally non-European, but if European, 7x mo...  \n",
       "3                                             normal  \n",
       "4                                  Can taste bitter.  "
      ]
     },
     "execution_count": 19,
     "metadata": {},
     "output_type": "execute_result"
    }
   ],
   "source": [
    "snp_df = pd.read_csv('result.csv')\n",
    "snp_df.head()"
   ]
  },
  {
   "cell_type": "code",
   "execution_count": 20,
   "metadata": {},
   "outputs": [],
   "source": [
    "snp_df['genotype'] = snp_df['Unnamed: 0'].apply(lambda x: re.sub(r'.*([AGCT]);([AGCT])\\)', r'\\1\\2', x))"
   ]
  },
  {
   "cell_type": "code",
   "execution_count": 21,
   "metadata": {},
   "outputs": [
    {
     "data": {
      "text/html": [
       "<div>\n",
       "<style scoped>\n",
       "    .dataframe tbody tr th:only-of-type {\n",
       "        vertical-align: middle;\n",
       "    }\n",
       "\n",
       "    .dataframe tbody tr th {\n",
       "        vertical-align: top;\n",
       "    }\n",
       "\n",
       "    .dataframe thead th {\n",
       "        text-align: right;\n",
       "    }\n",
       "</style>\n",
       "<table border=\"1\" class=\"dataframe\">\n",
       "  <thead>\n",
       "    <tr style=\"text-align: right;\">\n",
       "      <th></th>\n",
       "      <th>Unnamed: 0</th>\n",
       "      <th>Magnitude</th>\n",
       "      <th>Summary</th>\n",
       "      <th>genotype</th>\n",
       "    </tr>\n",
       "  </thead>\n",
       "  <tbody>\n",
       "    <tr>\n",
       "      <th>0</th>\n",
       "      <td>Rs1801253(G;G)</td>\n",
       "      <td>0.0</td>\n",
       "      <td>NaN</td>\n",
       "      <td>GG</td>\n",
       "    </tr>\n",
       "    <tr>\n",
       "      <th>1</th>\n",
       "      <td>Rs17822931(T;T)</td>\n",
       "      <td>2.5</td>\n",
       "      <td>Dry earwax. No body odour. Likely Asian ancest...</td>\n",
       "      <td>TT</td>\n",
       "    </tr>\n",
       "    <tr>\n",
       "      <th>2</th>\n",
       "      <td>Rs16891982(C;C)</td>\n",
       "      <td>1.1</td>\n",
       "      <td>generally non-European, but if European, 7x mo...</td>\n",
       "      <td>CC</td>\n",
       "    </tr>\n",
       "    <tr>\n",
       "      <th>3</th>\n",
       "      <td>Rs351855(C;C)</td>\n",
       "      <td>0.0</td>\n",
       "      <td>normal</td>\n",
       "      <td>CC</td>\n",
       "    </tr>\n",
       "    <tr>\n",
       "      <th>4</th>\n",
       "      <td>Rs713598(C;C)</td>\n",
       "      <td>1.1</td>\n",
       "      <td>Can taste bitter.</td>\n",
       "      <td>CC</td>\n",
       "    </tr>\n",
       "  </tbody>\n",
       "</table>\n",
       "</div>"
      ],
      "text/plain": [
       "        Unnamed: 0  Magnitude  \\\n",
       "0   Rs1801253(G;G)        0.0   \n",
       "1  Rs17822931(T;T)        2.5   \n",
       "2  Rs16891982(C;C)        1.1   \n",
       "3    Rs351855(C;C)        0.0   \n",
       "4    Rs713598(C;C)        1.1   \n",
       "\n",
       "                                             Summary genotype  \n",
       "0                                                NaN       GG  \n",
       "1  Dry earwax. No body odour. Likely Asian ancest...       TT  \n",
       "2  generally non-European, but if European, 7x mo...       CC  \n",
       "3                                             normal       CC  \n",
       "4                                  Can taste bitter.       CC  "
      ]
     },
     "execution_count": 21,
     "metadata": {},
     "output_type": "execute_result"
    }
   ],
   "source": [
    "snp_df.head()"
   ]
  },
  {
   "cell_type": "code",
   "execution_count": 22,
   "metadata": {},
   "outputs": [],
   "source": [
    "new_cols = ['rsid', 'magnitude', 'summary', 'genotype']\n",
    "snp_df.columns = new_cols"
   ]
  },
  {
   "cell_type": "code",
   "execution_count": 23,
   "metadata": {},
   "outputs": [],
   "source": [
    "snp_df['rsid'] = snp_df['rsid'].map(lambda x : x.lower())\n",
    "snp_df['rsid'] = snp_df['rsid'].map(lambda x : re.sub(r'([a-z]{1,}[\\d]+)\\([agct];[agct]\\)', r'\\1', x))"
   ]
  },
  {
   "cell_type": "code",
   "execution_count": 24,
   "metadata": {},
   "outputs": [
    {
     "data": {
      "text/html": [
       "<div>\n",
       "<style scoped>\n",
       "    .dataframe tbody tr th:only-of-type {\n",
       "        vertical-align: middle;\n",
       "    }\n",
       "\n",
       "    .dataframe tbody tr th {\n",
       "        vertical-align: top;\n",
       "    }\n",
       "\n",
       "    .dataframe thead th {\n",
       "        text-align: right;\n",
       "    }\n",
       "</style>\n",
       "<table border=\"1\" class=\"dataframe\">\n",
       "  <thead>\n",
       "    <tr style=\"text-align: right;\">\n",
       "      <th></th>\n",
       "      <th>rsid</th>\n",
       "      <th>magnitude</th>\n",
       "      <th>summary</th>\n",
       "      <th>genotype</th>\n",
       "    </tr>\n",
       "  </thead>\n",
       "  <tbody>\n",
       "    <tr>\n",
       "      <th>0</th>\n",
       "      <td>rs1801253</td>\n",
       "      <td>0.0</td>\n",
       "      <td>NaN</td>\n",
       "      <td>GG</td>\n",
       "    </tr>\n",
       "    <tr>\n",
       "      <th>1</th>\n",
       "      <td>rs17822931</td>\n",
       "      <td>2.5</td>\n",
       "      <td>Dry earwax. No body odour. Likely Asian ancest...</td>\n",
       "      <td>TT</td>\n",
       "    </tr>\n",
       "    <tr>\n",
       "      <th>2</th>\n",
       "      <td>rs16891982</td>\n",
       "      <td>1.1</td>\n",
       "      <td>generally non-European, but if European, 7x mo...</td>\n",
       "      <td>CC</td>\n",
       "    </tr>\n",
       "    <tr>\n",
       "      <th>3</th>\n",
       "      <td>rs351855</td>\n",
       "      <td>0.0</td>\n",
       "      <td>normal</td>\n",
       "      <td>CC</td>\n",
       "    </tr>\n",
       "    <tr>\n",
       "      <th>4</th>\n",
       "      <td>rs713598</td>\n",
       "      <td>1.1</td>\n",
       "      <td>Can taste bitter.</td>\n",
       "      <td>CC</td>\n",
       "    </tr>\n",
       "  </tbody>\n",
       "</table>\n",
       "</div>"
      ],
      "text/plain": [
       "         rsid  magnitude                                            summary  \\\n",
       "0   rs1801253        0.0                                                NaN   \n",
       "1  rs17822931        2.5  Dry earwax. No body odour. Likely Asian ancest...   \n",
       "2  rs16891982        1.1  generally non-European, but if European, 7x mo...   \n",
       "3    rs351855        0.0                                             normal   \n",
       "4    rs713598        1.1                                  Can taste bitter.   \n",
       "\n",
       "  genotype  \n",
       "0       GG  \n",
       "1       TT  \n",
       "2       CC  \n",
       "3       CC  \n",
       "4       CC  "
      ]
     },
     "execution_count": 24,
     "metadata": {},
     "output_type": "execute_result"
    }
   ],
   "source": [
    "snp_df.head()"
   ]
  },
  {
   "cell_type": "code",
   "execution_count": 25,
   "metadata": {
    "scrolled": true
   },
   "outputs": [
    {
     "name": "stdout",
     "output_type": "stream",
     "text": [
      "<class 'pandas.core.frame.DataFrame'>\n",
      "RangeIndex: 11000 entries, 0 to 10999\n",
      "Data columns (total 4 columns):\n",
      " #   Column     Non-Null Count  Dtype  \n",
      "---  ------     --------------  -----  \n",
      " 0   rsid       11000 non-null  object \n",
      " 1   magnitude  11000 non-null  float64\n",
      " 2   summary    10866 non-null  object \n",
      " 3   genotype   11000 non-null  object \n",
      "dtypes: float64(1), object(3)\n",
      "memory usage: 343.9+ KB\n"
     ]
    }
   ],
   "source": [
    "snp_df.info()"
   ]
  },
  {
   "cell_type": "code",
   "execution_count": 26,
   "metadata": {},
   "outputs": [
    {
     "data": {
      "text/plain": [
       "rsid         False\n",
       "magnitude    False\n",
       "summary       True\n",
       "genotype     False\n",
       "dtype: bool"
      ]
     },
     "execution_count": 26,
     "metadata": {},
     "output_type": "execute_result"
    }
   ],
   "source": [
    "snp_df.isna().any()"
   ]
  },
  {
   "cell_type": "code",
   "execution_count": 27,
   "metadata": {},
   "outputs": [],
   "source": [
    "new_df = snp_df.merge(df, how='inner', on=['rsid', 'genotype'], suffixes=('_SNPedia', '_myDNA'))"
   ]
  },
  {
   "cell_type": "code",
   "execution_count": 28,
   "metadata": {},
   "outputs": [
    {
     "data": {
      "text/html": [
       "<div>\n",
       "<style scoped>\n",
       "    .dataframe tbody tr th:only-of-type {\n",
       "        vertical-align: middle;\n",
       "    }\n",
       "\n",
       "    .dataframe tbody tr th {\n",
       "        vertical-align: top;\n",
       "    }\n",
       "\n",
       "    .dataframe thead th {\n",
       "        text-align: right;\n",
       "    }\n",
       "</style>\n",
       "<table border=\"1\" class=\"dataframe\">\n",
       "  <thead>\n",
       "    <tr style=\"text-align: right;\">\n",
       "      <th></th>\n",
       "      <th>rsid</th>\n",
       "      <th>magnitude</th>\n",
       "      <th>summary</th>\n",
       "      <th>genotype</th>\n",
       "      <th>chromosome</th>\n",
       "      <th>position</th>\n",
       "    </tr>\n",
       "  </thead>\n",
       "  <tbody>\n",
       "    <tr>\n",
       "      <th>0</th>\n",
       "      <td>rs16891982</td>\n",
       "      <td>1.1</td>\n",
       "      <td>generally non-European, but if European, 7x mo...</td>\n",
       "      <td>CC</td>\n",
       "      <td>5</td>\n",
       "      <td>33951693</td>\n",
       "    </tr>\n",
       "    <tr>\n",
       "      <th>1</th>\n",
       "      <td>rs16891982</td>\n",
       "      <td>1.1</td>\n",
       "      <td>generally non-European, but if European, 7x mo...</td>\n",
       "      <td>CC</td>\n",
       "      <td>5</td>\n",
       "      <td>33951693</td>\n",
       "    </tr>\n",
       "    <tr>\n",
       "      <th>2</th>\n",
       "      <td>rs696217</td>\n",
       "      <td>0.0</td>\n",
       "      <td>common in clinvar</td>\n",
       "      <td>GG</td>\n",
       "      <td>3</td>\n",
       "      <td>10331457</td>\n",
       "    </tr>\n",
       "    <tr>\n",
       "      <th>3</th>\n",
       "      <td>rs696217</td>\n",
       "      <td>0.0</td>\n",
       "      <td>common in clinvar</td>\n",
       "      <td>GG</td>\n",
       "      <td>3</td>\n",
       "      <td>10331457</td>\n",
       "    </tr>\n",
       "    <tr>\n",
       "      <th>4</th>\n",
       "      <td>rs1045485</td>\n",
       "      <td>2.0</td>\n",
       "      <td>Reduced Risk of Breast Cancer</td>\n",
       "      <td>CC</td>\n",
       "      <td>2</td>\n",
       "      <td>202149589</td>\n",
       "    </tr>\n",
       "    <tr>\n",
       "      <th>...</th>\n",
       "      <td>...</td>\n",
       "      <td>...</td>\n",
       "      <td>...</td>\n",
       "      <td>...</td>\n",
       "      <td>...</td>\n",
       "      <td>...</td>\n",
       "    </tr>\n",
       "    <tr>\n",
       "      <th>937</th>\n",
       "      <td>rs1143646</td>\n",
       "      <td>0.0</td>\n",
       "      <td>common in complete genomics</td>\n",
       "      <td>TT</td>\n",
       "      <td>4</td>\n",
       "      <td>3148653</td>\n",
       "    </tr>\n",
       "    <tr>\n",
       "      <th>938</th>\n",
       "      <td>rs10509680</td>\n",
       "      <td>0.0</td>\n",
       "      <td>common on affy axiom data</td>\n",
       "      <td>GG</td>\n",
       "      <td>10</td>\n",
       "      <td>96734339</td>\n",
       "    </tr>\n",
       "    <tr>\n",
       "      <th>939</th>\n",
       "      <td>rs789852</td>\n",
       "      <td>0.0</td>\n",
       "      <td>common in complete genomics</td>\n",
       "      <td>CC</td>\n",
       "      <td>3</td>\n",
       "      <td>194327098</td>\n",
       "    </tr>\n",
       "    <tr>\n",
       "      <th>940</th>\n",
       "      <td>rs7762619</td>\n",
       "      <td>0.0</td>\n",
       "      <td>common in complete genomics</td>\n",
       "      <td>TT</td>\n",
       "      <td>6</td>\n",
       "      <td>31531310</td>\n",
       "    </tr>\n",
       "    <tr>\n",
       "      <th>941</th>\n",
       "      <td>rs56398830</td>\n",
       "      <td>0.0</td>\n",
       "      <td>common in complete genomics</td>\n",
       "      <td>GG</td>\n",
       "      <td>13</td>\n",
       "      <td>103701690</td>\n",
       "    </tr>\n",
       "  </tbody>\n",
       "</table>\n",
       "<p>942 rows × 6 columns</p>\n",
       "</div>"
      ],
      "text/plain": [
       "           rsid  magnitude                                            summary  \\\n",
       "0    rs16891982        1.1  generally non-European, but if European, 7x mo...   \n",
       "1    rs16891982        1.1  generally non-European, but if European, 7x mo...   \n",
       "2      rs696217        0.0                                  common in clinvar   \n",
       "3      rs696217        0.0                                  common in clinvar   \n",
       "4     rs1045485        2.0                      Reduced Risk of Breast Cancer   \n",
       "..          ...        ...                                                ...   \n",
       "937   rs1143646        0.0                        common in complete genomics   \n",
       "938  rs10509680        0.0                          common on affy axiom data   \n",
       "939    rs789852        0.0                        common in complete genomics   \n",
       "940   rs7762619        0.0                        common in complete genomics   \n",
       "941  rs56398830        0.0                        common in complete genomics   \n",
       "\n",
       "    genotype  chromosome   position  \n",
       "0         CC           5   33951693  \n",
       "1         CC           5   33951693  \n",
       "2         GG           3   10331457  \n",
       "3         GG           3   10331457  \n",
       "4         CC           2  202149589  \n",
       "..       ...         ...        ...  \n",
       "937       TT           4    3148653  \n",
       "938       GG          10   96734339  \n",
       "939       CC           3  194327098  \n",
       "940       TT           6   31531310  \n",
       "941       GG          13  103701690  \n",
       "\n",
       "[942 rows x 6 columns]"
      ]
     },
     "execution_count": 28,
     "metadata": {},
     "output_type": "execute_result"
    }
   ],
   "source": [
    "new_df.head(1000000)"
   ]
  },
  {
   "cell_type": "code",
   "execution_count": 29,
   "metadata": {},
   "outputs": [],
   "source": [
    "genes_to_display = new_df[new_df.magnitude > 2]"
   ]
  },
  {
   "cell_type": "code",
   "execution_count": 30,
   "metadata": {
    "scrolled": true
   },
   "outputs": [
    {
     "data": {
      "text/html": [
       "<div>\n",
       "<style scoped>\n",
       "    .dataframe tbody tr th:only-of-type {\n",
       "        vertical-align: middle;\n",
       "    }\n",
       "\n",
       "    .dataframe tbody tr th {\n",
       "        vertical-align: top;\n",
       "    }\n",
       "\n",
       "    .dataframe thead th {\n",
       "        text-align: right;\n",
       "    }\n",
       "</style>\n",
       "<table border=\"1\" class=\"dataframe\">\n",
       "  <thead>\n",
       "    <tr style=\"text-align: right;\">\n",
       "      <th></th>\n",
       "      <th>rsid</th>\n",
       "      <th>magnitude</th>\n",
       "      <th>summary</th>\n",
       "      <th>genotype</th>\n",
       "      <th>chromosome</th>\n",
       "      <th>position</th>\n",
       "    </tr>\n",
       "  </thead>\n",
       "  <tbody>\n",
       "    <tr>\n",
       "      <th>246</th>\n",
       "      <td>rs1815739</td>\n",
       "      <td>2.2</td>\n",
       "      <td>Better performing muscles. Likely sprinter.</td>\n",
       "      <td>CC</td>\n",
       "      <td>11</td>\n",
       "      <td>66328095</td>\n",
       "    </tr>\n",
       "    <tr>\n",
       "      <th>247</th>\n",
       "      <td>rs1815739</td>\n",
       "      <td>2.2</td>\n",
       "      <td>Better performing muscles. Likely sprinter.</td>\n",
       "      <td>CC</td>\n",
       "      <td>11</td>\n",
       "      <td>66328095</td>\n",
       "    </tr>\n",
       "    <tr>\n",
       "      <th>359</th>\n",
       "      <td>rs3129934</td>\n",
       "      <td>2.1</td>\n",
       "      <td>Normal lower risk of Multiple Sclerosis.</td>\n",
       "      <td>CC</td>\n",
       "      <td>6</td>\n",
       "      <td>32336187</td>\n",
       "    </tr>\n",
       "    <tr>\n",
       "      <th>420</th>\n",
       "      <td>rs2070744</td>\n",
       "      <td>2.1</td>\n",
       "      <td>cardiovascular differences</td>\n",
       "      <td>TT</td>\n",
       "      <td>7</td>\n",
       "      <td>150690079</td>\n",
       "    </tr>\n",
       "    <tr>\n",
       "      <th>424</th>\n",
       "      <td>rs53576</td>\n",
       "      <td>2.5</td>\n",
       "      <td>Optimistic and empathetic; handle stress well</td>\n",
       "      <td>GG</td>\n",
       "      <td>3</td>\n",
       "      <td>8804371</td>\n",
       "    </tr>\n",
       "    <tr>\n",
       "      <th>439</th>\n",
       "      <td>rs1799990</td>\n",
       "      <td>2.1</td>\n",
       "      <td>Resistance to vCJD (PrP 129 Met/Val heterozygo...</td>\n",
       "      <td>AG</td>\n",
       "      <td>20</td>\n",
       "      <td>4680251</td>\n",
       "    </tr>\n",
       "  </tbody>\n",
       "</table>\n",
       "</div>"
      ],
      "text/plain": [
       "          rsid  magnitude                                            summary  \\\n",
       "246  rs1815739        2.2        Better performing muscles. Likely sprinter.   \n",
       "247  rs1815739        2.2        Better performing muscles. Likely sprinter.   \n",
       "359  rs3129934        2.1           Normal lower risk of Multiple Sclerosis.   \n",
       "420  rs2070744        2.1                         cardiovascular differences   \n",
       "424    rs53576        2.5      Optimistic and empathetic; handle stress well   \n",
       "439  rs1799990        2.1  Resistance to vCJD (PrP 129 Met/Val heterozygo...   \n",
       "\n",
       "    genotype  chromosome   position  \n",
       "246       CC          11   66328095  \n",
       "247       CC          11   66328095  \n",
       "359       CC           6   32336187  \n",
       "420       TT           7  150690079  \n",
       "424       GG           3    8804371  \n",
       "439       AG          20    4680251  "
      ]
     },
     "execution_count": 30,
     "metadata": {},
     "output_type": "execute_result"
    }
   ],
   "source": [
    "genes_to_display"
   ]
  },
  {
   "cell_type": "code",
   "execution_count": 31,
   "metadata": {},
   "outputs": [
    {
     "name": "stdout",
     "output_type": "stream",
     "text": [
      "['Better performing muscles. Likely sprinter.'\n",
      " 'Better performing muscles. Likely sprinter.'\n",
      " 'Normal lower risk of Multiple Sclerosis.' 'cardiovascular differences'\n",
      " 'Optimistic and empathetic; handle stress well'\n",
      " 'Resistance to vCJD (PrP 129 Met/Val heterozygote), 4.6x reduced risk of sporadic CJD and 0.87x reduced risk for late-onset Alzheimer in a Caucasian population']\n"
     ]
    }
   ],
   "source": [
    "print (genes_to_display.summary.values)"
   ]
  },
  {
   "cell_type": "code",
   "execution_count": 32,
   "metadata": {},
   "outputs": [
    {
     "name": "stderr",
     "output_type": "stream",
     "text": [
      "/usr/local/lib/python3.7/site-packages/ipykernel_launcher.py:16: UserWarning: Matplotlib is currently using agg, which is a non-GUI backend, so cannot show the figure.\n",
      "  app.launch_new_instance()\n"
     ]
    }
   ],
   "source": [
    "from wordcloud import WordCloud, STOPWORDS\n",
    "import matplotlib.pyplot as plt\n",
    "text = genes_to_display.summary.values\n",
    "wordcloud = WordCloud(\n",
    "    width = 800,\n",
    "    height = 600,\n",
    "    mode = 'RGBA',\n",
    "    background_color = None,\n",
    "    stopwords = STOPWORDS).generate(str(text))\n",
    "fig = plt.figure(\n",
    "    figsize = (90, 80),\n",
    "    edgecolor = 'k')\n",
    "plt.imshow(wordcloud, interpolation = 'bilinear')\n",
    "plt.axis('off')\n",
    "plt.tight_layout(pad=0)\n",
    "plt.show()\n",
    "plt.savefig(\"wordcloud.png\")\n"
   ]
  },
  {
   "cell_type": "code",
   "execution_count": 33,
   "metadata": {},
   "outputs": [],
   "source": [
    "img = Image.open('wordcloud.png')\n",
    "img = img.convert(\"RGBA\")\n",
    "\n",
    "pixdata = img.load()\n",
    "\n",
    "width, height = img.size\n",
    "for y in range(height):\n",
    "    for x in range(width):\n",
    "        if pixdata[x, y] == (255, 255, 255, 255):\n",
    "            pixdata[x, y] = (255, 255, 255, 0)\n",
    "\n",
    "img.save(\"wordcloud.png\", \"PNG\")"
   ]
  },
  {
   "cell_type": "code",
   "execution_count": null,
   "metadata": {},
   "outputs": [],
   "source": [
    "deviceId = 0\n",
    "faceCascade = cv2.CascadeClassifier(\"cascadeFiles/haarcascade_frontalface_default.xml\")\n",
    "noseCascade = cv2.CascadeClassifier(\"reference/haarcascade_mcs_nose.xml\")\n",
    "eyeCascade = cv2.CascadeClassifier(\"cascadeFiles/haarcascade_eye.xml\")\n",
    "leftEyeCascade = cv2.CascadeClassifier(\"cascadeFiles/haarcascade_lefteye_2splits.xml\")\n",
    "\n",
    "\n",
    "imgHat = cv2.imread('wordcloud.png',-1)\n",
    "\n",
    "orig_mask = imgHat[:,:,3]\n",
    "\n",
    "orig_mask_inv = cv2.bitwise_not(orig_mask)\n",
    "\n",
    "imgHat = imgHat[:,:,0:3]\n",
    "origHatHeight, origHatWidth = imgHat.shape[:2]\n",
    "\n",
    "cv2.namedWindow(\"Live Feed\", 0)\n",
    "cv2.setWindowProperty(\"Live Feed\", 0, 1)\n",
    "\n",
    "video_capture = cv2.VideoCapture(deviceId)\n",
    "\n",
    "while(cv2.waitKey(30) != 27):\n",
    "    ret, frame = video_capture.read()\n",
    "    height,width,_ = frame.shape\n",
    "    overlayed = frame\n",
    "    gray = cv2.cvtColor(frame, cv2.COLOR_BGR2GRAY)\n",
    "\n",
    "    faces = faceCascade.detectMultiScale(\n",
    "        gray,\n",
    "        scaleFactor=1.1,\n",
    "        minNeighbors=5,\n",
    "        minSize=(30, 30),\n",
    "        flags=cv2.CASCADE_SCALE_IMAGE\n",
    "    )\n",
    "\n",
    "    x = 0\n",
    "    y = 0\n",
    "    w = 0\n",
    "    h = 0\n",
    "\n",
    "    for (tx, ty, tw, th) in faces:\n",
    "        if tw*th > w*h:\n",
    "            x = tx\n",
    "            y = ty\n",
    "            w = tw\n",
    "            h = th\n",
    "\n",
    "    #print x\n",
    "    #print y\n",
    "    #print w\n",
    "    #print h\n",
    "    hatWidth = 0\n",
    "    hatHeight = 0\n",
    "    if (w != 0) and (h != 0):\n",
    "        face = cv2.rectangle(frame,(x,y),(x+w,y+h),(255,0,0),2)\n",
    "        hatWidth = (int)(w * 3 / 2)\n",
    "        hatHeight = (int)(hatWidth * origHatHeight / origHatWidth)\n",
    "\n",
    "        x1 = (int)(x - (hatWidth/4))\n",
    "        x2 = (int)(x + w + (hatWidth/4))\n",
    "        y1 = (int)(y - (hatHeight*3/4))\n",
    "        y2 = (int)(y + h+ (hatHeight/4))\n",
    "\n",
    "        if x1 < 0:\n",
    "            x1 = 0\n",
    "        if x2 > width:\n",
    "            x2 = width\n",
    "        if y1 < 0:\n",
    "            y1 = 0\n",
    "        if y2 > height:\n",
    "            y2 = height\n",
    "\n",
    "        hatHeight = (int)(y2 - y1)\n",
    "        hatWidth = (int)(x2 - x1)\n",
    "\n",
    "        hat = cv2.resize(imgHat, (hatWidth,hatHeight), interpolation = cv2.INTER_AREA)\n",
    "        mask = cv2.resize(orig_mask, (hatWidth,hatHeight), interpolation = cv2.INTER_AREA)\n",
    "        mask_inv = cv2.resize(orig_mask_inv, (hatWidth,hatHeight), interpolation = cv2.INTER_AREA)\n",
    "\n",
    "        roi = frame[y1:y2, x1:x2]\n",
    "        try:\n",
    "            roi_bg = cv2.bitwise_and(roi, roi, mask=mask_inv)\n",
    "            roi_fg = cv2.bitwise_and(hat, hat, mask=mask)\n",
    "            dst = cv2.add(roi_bg,roi_fg)\n",
    "            frame[y1:y2, x1:x2] = dst\n",
    "\n",
    "\n",
    "            roi_gray_m = gray[y:y+h, x:x+w]\n",
    "            roi_color_m = frame[y:y+h, x:x+w]\n",
    "\n",
    "\n",
    "        finally:\n",
    "            cropy1 = y + (h/2) - ((x2-x1)*(float(2)/3))\n",
    "            cropy2 = y + (h/2) + ((x2-x1)*(float(2)/3))\n",
    "\n",
    "            if cropy1 < 0:\n",
    "                cropy1 = 0\n",
    "            if(cropy1 >= cropy2):\n",
    "                cropy1 = cropy2-1\n",
    "            if cropy2 >height:\n",
    "                cropy2=height\n",
    "            print (\"cropy2: \")\n",
    "            print (cropy2)\n",
    "            print (\"cropy1: \")\n",
    "            print (cropy1)\n",
    "            print (\"x1: \")\n",
    "            print (x1)\n",
    "            print (\"x2: \")\n",
    "            print (x2)\n",
    "            #small = cv2.resize(frame[5:100, 5:x2], (hatWidth,hatHeight), fx=0.5, fy=0.5)\n",
    "            overlayed = frame[int(cropy1):int(cropy2), x1:x2]\n",
    "\n",
    "\n",
    "    cv2.imshow(\"Live Feed\", overlayed)\n",
    "\n",
    "    if cv2.waitKey(1) & 0xFF == ord('q'):\n",
    "        break\n",
    "video_capture.release()\n",
    "cv2.destroyAllWindows()"
   ]
  },
  {
   "cell_type": "code",
   "execution_count": null,
   "metadata": {},
   "outputs": [],
   "source": [
    "l = Lineage()"
   ]
  },
  {
   "cell_type": "code",
   "execution_count": null,
   "metadata": {},
   "outputs": [],
   "source": [
    "Mom = l.create_individual('mom', 'mom.txt')"
   ]
  },
  {
   "cell_type": "code",
   "execution_count": null,
   "metadata": {},
   "outputs": [],
   "source": [
    "Mom"
   ]
  },
  {
   "cell_type": "code",
   "execution_count": null,
   "metadata": {},
   "outputs": [],
   "source": [
    "Mom.build"
   ]
  },
  {
   "cell_type": "code",
   "execution_count": null,
   "metadata": {},
   "outputs": [],
   "source": [
    "Me = l.create_individual('me', 'genomeeline.txt')"
   ]
  },
  {
   "cell_type": "code",
   "execution_count": null,
   "metadata": {},
   "outputs": [],
   "source": [
    "Me.build"
   ]
  },
  {
   "cell_type": "code",
   "execution_count": null,
   "metadata": {},
   "outputs": [],
   "source": [
    "discordant_snps = l.find_discordant_snps(Me, Mom, save_output=True)"
   ]
  },
  {
   "cell_type": "code",
   "execution_count": null,
   "metadata": {},
   "outputs": [],
   "source": [
    "len(discordant_snps.loc[discordant_snps['chrom'] != 'MT'])"
   ]
  },
  {
   "cell_type": "code",
   "execution_count": null,
   "metadata": {},
   "outputs": [],
   "source": [
    "results = l.find_shared_dna([Mom, Me], cM_threshold=0.75, snp_threshold=1100)"
   ]
  },
  {
   "cell_type": "code",
   "execution_count": null,
   "metadata": {},
   "outputs": [],
   "source": [
    "sorted(results.keys())"
   ]
  },
  {
   "cell_type": "code",
   "execution_count": null,
   "metadata": {},
   "outputs": [],
   "source": [
    "len(results['one_chrom_shared_dna'])"
   ]
  },
  {
   "cell_type": "code",
   "execution_count": null,
   "metadata": {},
   "outputs": [],
   "source": [
    "results1 = l.find_shared_dna([Mom, Me], shared_genes=True)"
   ]
  },
  {
   "cell_type": "code",
   "execution_count": null,
   "metadata": {},
   "outputs": [],
   "source": [
    "len(results1['two_chrom_shared_genes'])"
   ]
  },
  {
   "cell_type": "code",
   "execution_count": null,
   "metadata": {},
   "outputs": [],
   "source": [
    "from arv import load, unphased_match as match\n",
    "\n",
    "genome = load(\"genomee.txt\")\n",
    "\n",
    "print(\"You are {gender}. You are {athletic}. you tend to {sneezesun} when it is too sunny outside. you have {color} eyes,  {hair} hair. You are likely {bodytype} and still struggles with {OCD}. you {likelyhiv}. you are {social} and {popularity}, and {organization}. You are an extremely {drive}. You are quite a {empathy}. You are {likelylynch}. You are {lactoseint}.\"\n",
    ".format(\n",
    "  gender     = \"man\" if genome.y_chromosome else \"woman\",\n",
    "  athletic   = \"Incredibly athletic and likely a sprinter\" if genome[\"rs1815739\"] == \"CC\" else \"not athletic\",\n",
    "  sneezesun  =\"Sneeze\" if genome[\"rs10427255\"] == \"CC\" else \"not sneeze\",\n",
    "  social     =\"Very social \" if genome[\"rs53576\"] == \"AA\" or \"AG\" else \"not very social\",\n",
    "  hair       =\"curly\" if genome[\"rs17646946\"] == \"GG\" else \"not curly\",\n",
    "  bodytype   =\"Muscular\" if genome[\"rs1815739\"] == \"CC\" else \"not Muscular\",\n",
    "  organization =\"organized\" if genome[\"rs25532\"] == \"CC\" or \"CT\" else \"Not organizations\",\n",
    "  likelyhiv  =\"Hiv resistant\" if genome[\"i3003626\"] == \"DD\" else \"are not hiv resistant \",\n",
    "  empathy     =\"Very empathetic \" if genome[\"rs53576\"] == \"AA\" or \"AG\" else \"not very empathetic\",\n",
    "  popularity =\"very popular\" if genome[\"rs53576\"] == \"AA\" or \"AG\" else \"not very popular\",\n",
    "  drive      =\"very driven\" if genome[\"rs1815739\"] == \"AA\" else \"not very driven\",\n",
    "  OCD        =\"OCD\" if genome[\"rs25532\"] == \"CC\" or \"CT\" else \"Not ocd\",\n",
    "  likelylynch=\"Have Lynch syndrome\" if genome[\"rs63750875\"] == \"CC\" or \"CG\" else \"dont have lynch syndrome\",\n",
    "  lactoseint =\"lactose intolerent\" if genome[\"rs4988235\"] == \"CC\"  else \"not lactose intolerant\",\n",
    "  complexion = \"light\" if genome[\"rs1426654\"] == \"AA\" else \"dark\",\n",
    "  color      = match(genome[\"rs12913832\"], {\"AA\": \"brown\",\n",
    "                                            \"AG\": \"brown or green\",\n",
    "                                            \"GG\": \"blue\"})))\n"
   ]
  }
 ],
 "metadata": {
  "kernelspec": {
   "display_name": "Python 3",
   "language": "python",
   "name": "python3"
  },
  "language_info": {
   "codemirror_mode": {
    "name": "ipython",
    "version": 3
   },
   "file_extension": ".py",
   "mimetype": "text/x-python",
   "name": "python",
   "nbconvert_exporter": "python",
   "pygments_lexer": "ipython3",
   "version": "3.7.7"
  }
 },
 "nbformat": 4,
 "nbformat_minor": 4
}
